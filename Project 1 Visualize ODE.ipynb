{
 "cells": [
  {
   "cell_type": "code",
   "execution_count": null,
   "id": "d86a10d8",
   "metadata": {},
   "outputs": [],
   "source": [
    "#Kevin Tran\n",
    "#import SciPy, numPy and matPlotLib\n",
    "import numpy as np\n",
    "import matplotlib.pyplot as plt\n",
    "from scipy.integrate import odeint\n",
    "import random\n",
    "\n",
    "\n",
    "#declare the starting temp\n",
    "y0=70\n",
    " #define the ODE      \n",
    "\n",
    "def therm(y,t,k): \n",
    "    return (1.1*k*t-3)*.01\n",
    "stop= 'c'\n",
    "k=float(input('Enter the # of apps being used: '))\n",
    "#time points\n",
    "t=np.linspace(1,30,100)\n",
    " #solve ODE\n",
    "y =odeint(therm,y0,t,args=(k,))\n",
    "\n",
    "plt.plot(t,y,label=str(k) + ' apps' )\n",
    "plt.legend()\n",
    "#condition the while loop to take more user input as needed\n",
    "while( stop != 's'):\n",
    "    stop = input('Type C to enter more # of apps or S to stop inputting:' )\n",
    "    stop= stop.lower()\n",
    "    if stop=='c':\n",
    "        #take input for # of apps\n",
    "        k=float(input('Enter the # of apps being used: '))\n",
    "        #time points\n",
    "        t=np.linspace(1,30,30)\n",
    "        #solve ODE\n",
    "        y =odeint(therm,y0,t,args=(k,))\n",
    "        plt.plot(t,y,label=str(k) + ' apps' )\n",
    "        plt.legend()\n",
    "plt.xlabel('Time(mins)')\n",
    "plt.ylabel('Temperature (F)')\n",
    "plt.show()\n",
    "    "
   ]
  },
  {
   "cell_type": "code",
   "execution_count": null,
   "id": "892feb1e",
   "metadata": {},
   "outputs": [],
   "source": []
  }
 ],
 "metadata": {
  "kernelspec": {
   "display_name": "Python 3 (ipykernel)",
   "language": "python",
   "name": "python3"
  },
  "language_info": {
   "codemirror_mode": {
    "name": "ipython",
    "version": 3
   },
   "file_extension": ".py",
   "mimetype": "text/x-python",
   "name": "python",
   "nbconvert_exporter": "python",
   "pygments_lexer": "ipython3",
   "version": "3.11.0"
  }
 },
 "nbformat": 4,
 "nbformat_minor": 5
}
